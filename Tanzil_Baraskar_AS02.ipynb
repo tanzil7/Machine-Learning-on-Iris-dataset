{
 "cells": [
  {
   "cell_type": "code",
   "execution_count": 1,
   "source": [
    "import numpy as np\r\n",
    "import pandas as pd\r\n",
    "import matplotlib.pyplot as pltc \r\n",
    "from matplotlib.colors import ListedColormap\r\n",
    "import matplotlib.pyplot as plt \r\n",
    "from tabulate import tabulate "
   ],
   "outputs": [],
   "metadata": {}
  },
  {
   "cell_type": "code",
   "execution_count": 2,
   "source": [
    "# read Iris data set\r\n",
    "\r\n",
    "df = pd.read_csv('https://archive.ics.uci.edu/ml/machine-learning-databases/iris/iris.data', header = None)\r\n",
    "#df = pd.read_csv('iris.csv', header = None)\r\n",
    "df.tail()\r\n",
    "\r\n",
    "IA = df.iloc[:,:].values\r\n",
    "for i_ in range(0,len(df),1):\r\n",
    "    print(i_, IA[i_,:])\r\n",
    "\r\n",
    "Cl = IA[:,4]"
   ],
   "outputs": [
    {
     "output_type": "stream",
     "name": "stdout",
     "text": [
      "0 [5.1 3.5 1.4 0.2 'Iris-setosa']\n",
      "1 [4.9 3.0 1.4 0.2 'Iris-setosa']\n",
      "2 [4.7 3.2 1.3 0.2 'Iris-setosa']\n",
      "3 [4.6 3.1 1.5 0.2 'Iris-setosa']\n",
      "4 [5.0 3.6 1.4 0.2 'Iris-setosa']\n",
      "5 [5.4 3.9 1.7 0.4 'Iris-setosa']\n",
      "6 [4.6 3.4 1.4 0.3 'Iris-setosa']\n",
      "7 [5.0 3.4 1.5 0.2 'Iris-setosa']\n",
      "8 [4.4 2.9 1.4 0.2 'Iris-setosa']\n",
      "9 [4.9 3.1 1.5 0.1 'Iris-setosa']\n",
      "10 [5.4 3.7 1.5 0.2 'Iris-setosa']\n",
      "11 [4.8 3.4 1.6 0.2 'Iris-setosa']\n",
      "12 [4.8 3.0 1.4 0.1 'Iris-setosa']\n",
      "13 [4.3 3.0 1.1 0.1 'Iris-setosa']\n",
      "14 [5.8 4.0 1.2 0.2 'Iris-setosa']\n",
      "15 [5.7 4.4 1.5 0.4 'Iris-setosa']\n",
      "16 [5.4 3.9 1.3 0.4 'Iris-setosa']\n",
      "17 [5.1 3.5 1.4 0.3 'Iris-setosa']\n",
      "18 [5.7 3.8 1.7 0.3 'Iris-setosa']\n",
      "19 [5.1 3.8 1.5 0.3 'Iris-setosa']\n",
      "20 [5.4 3.4 1.7 0.2 'Iris-setosa']\n",
      "21 [5.1 3.7 1.5 0.4 'Iris-setosa']\n",
      "22 [4.6 3.6 1.0 0.2 'Iris-setosa']\n",
      "23 [5.1 3.3 1.7 0.5 'Iris-setosa']\n",
      "24 [4.8 3.4 1.9 0.2 'Iris-setosa']\n",
      "25 [5.0 3.0 1.6 0.2 'Iris-setosa']\n",
      "26 [5.0 3.4 1.6 0.4 'Iris-setosa']\n",
      "27 [5.2 3.5 1.5 0.2 'Iris-setosa']\n",
      "28 [5.2 3.4 1.4 0.2 'Iris-setosa']\n",
      "29 [4.7 3.2 1.6 0.2 'Iris-setosa']\n",
      "30 [4.8 3.1 1.6 0.2 'Iris-setosa']\n",
      "31 [5.4 3.4 1.5 0.4 'Iris-setosa']\n",
      "32 [5.2 4.1 1.5 0.1 'Iris-setosa']\n",
      "33 [5.5 4.2 1.4 0.2 'Iris-setosa']\n",
      "34 [4.9 3.1 1.5 0.1 'Iris-setosa']\n",
      "35 [5.0 3.2 1.2 0.2 'Iris-setosa']\n",
      "36 [5.5 3.5 1.3 0.2 'Iris-setosa']\n",
      "37 [4.9 3.1 1.5 0.1 'Iris-setosa']\n",
      "38 [4.4 3.0 1.3 0.2 'Iris-setosa']\n",
      "39 [5.1 3.4 1.5 0.2 'Iris-setosa']\n",
      "40 [5.0 3.5 1.3 0.3 'Iris-setosa']\n",
      "41 [4.5 2.3 1.3 0.3 'Iris-setosa']\n",
      "42 [4.4 3.2 1.3 0.2 'Iris-setosa']\n",
      "43 [5.0 3.5 1.6 0.6 'Iris-setosa']\n",
      "44 [5.1 3.8 1.9 0.4 'Iris-setosa']\n",
      "45 [4.8 3.0 1.4 0.3 'Iris-setosa']\n",
      "46 [5.1 3.8 1.6 0.2 'Iris-setosa']\n",
      "47 [4.6 3.2 1.4 0.2 'Iris-setosa']\n",
      "48 [5.3 3.7 1.5 0.2 'Iris-setosa']\n",
      "49 [5.0 3.3 1.4 0.2 'Iris-setosa']\n",
      "50 [7.0 3.2 4.7 1.4 'Iris-versicolor']\n",
      "51 [6.4 3.2 4.5 1.5 'Iris-versicolor']\n",
      "52 [6.9 3.1 4.9 1.5 'Iris-versicolor']\n",
      "53 [5.5 2.3 4.0 1.3 'Iris-versicolor']\n",
      "54 [6.5 2.8 4.6 1.5 'Iris-versicolor']\n",
      "55 [5.7 2.8 4.5 1.3 'Iris-versicolor']\n",
      "56 [6.3 3.3 4.7 1.6 'Iris-versicolor']\n",
      "57 [4.9 2.4 3.3 1.0 'Iris-versicolor']\n",
      "58 [6.6 2.9 4.6 1.3 'Iris-versicolor']\n",
      "59 [5.2 2.7 3.9 1.4 'Iris-versicolor']\n",
      "60 [5.0 2.0 3.5 1.0 'Iris-versicolor']\n",
      "61 [5.9 3.0 4.2 1.5 'Iris-versicolor']\n",
      "62 [6.0 2.2 4.0 1.0 'Iris-versicolor']\n",
      "63 [6.1 2.9 4.7 1.4 'Iris-versicolor']\n",
      "64 [5.6 2.9 3.6 1.3 'Iris-versicolor']\n",
      "65 [6.7 3.1 4.4 1.4 'Iris-versicolor']\n",
      "66 [5.6 3.0 4.5 1.5 'Iris-versicolor']\n",
      "67 [5.8 2.7 4.1 1.0 'Iris-versicolor']\n",
      "68 [6.2 2.2 4.5 1.5 'Iris-versicolor']\n",
      "69 [5.6 2.5 3.9 1.1 'Iris-versicolor']\n",
      "70 [5.9 3.2 4.8 1.8 'Iris-versicolor']\n",
      "71 [6.1 2.8 4.0 1.3 'Iris-versicolor']\n",
      "72 [6.3 2.5 4.9 1.5 'Iris-versicolor']\n",
      "73 [6.1 2.8 4.7 1.2 'Iris-versicolor']\n",
      "74 [6.4 2.9 4.3 1.3 'Iris-versicolor']\n",
      "75 [6.6 3.0 4.4 1.4 'Iris-versicolor']\n",
      "76 [6.8 2.8 4.8 1.4 'Iris-versicolor']\n",
      "77 [6.7 3.0 5.0 1.7 'Iris-versicolor']\n",
      "78 [6.0 2.9 4.5 1.5 'Iris-versicolor']\n",
      "79 [5.7 2.6 3.5 1.0 'Iris-versicolor']\n",
      "80 [5.5 2.4 3.8 1.1 'Iris-versicolor']\n",
      "81 [5.5 2.4 3.7 1.0 'Iris-versicolor']\n",
      "82 [5.8 2.7 3.9 1.2 'Iris-versicolor']\n",
      "83 [6.0 2.7 5.1 1.6 'Iris-versicolor']\n",
      "84 [5.4 3.0 4.5 1.5 'Iris-versicolor']\n",
      "85 [6.0 3.4 4.5 1.6 'Iris-versicolor']\n",
      "86 [6.7 3.1 4.7 1.5 'Iris-versicolor']\n",
      "87 [6.3 2.3 4.4 1.3 'Iris-versicolor']\n",
      "88 [5.6 3.0 4.1 1.3 'Iris-versicolor']\n",
      "89 [5.5 2.5 4.0 1.3 'Iris-versicolor']\n",
      "90 [5.5 2.6 4.4 1.2 'Iris-versicolor']\n",
      "91 [6.1 3.0 4.6 1.4 'Iris-versicolor']\n",
      "92 [5.8 2.6 4.0 1.2 'Iris-versicolor']\n",
      "93 [5.0 2.3 3.3 1.0 'Iris-versicolor']\n",
      "94 [5.6 2.7 4.2 1.3 'Iris-versicolor']\n",
      "95 [5.7 3.0 4.2 1.2 'Iris-versicolor']\n",
      "96 [5.7 2.9 4.2 1.3 'Iris-versicolor']\n",
      "97 [6.2 2.9 4.3 1.3 'Iris-versicolor']\n",
      "98 [5.1 2.5 3.0 1.1 'Iris-versicolor']\n",
      "99 [5.7 2.8 4.1 1.3 'Iris-versicolor']\n",
      "100 [6.3 3.3 6.0 2.5 'Iris-virginica']\n",
      "101 [5.8 2.7 5.1 1.9 'Iris-virginica']\n",
      "102 [7.1 3.0 5.9 2.1 'Iris-virginica']\n",
      "103 [6.3 2.9 5.6 1.8 'Iris-virginica']\n",
      "104 [6.5 3.0 5.8 2.2 'Iris-virginica']\n",
      "105 [7.6 3.0 6.6 2.1 'Iris-virginica']\n",
      "106 [4.9 2.5 4.5 1.7 'Iris-virginica']\n",
      "107 [7.3 2.9 6.3 1.8 'Iris-virginica']\n",
      "108 [6.7 2.5 5.8 1.8 'Iris-virginica']\n",
      "109 [7.2 3.6 6.1 2.5 'Iris-virginica']\n",
      "110 [6.5 3.2 5.1 2.0 'Iris-virginica']\n",
      "111 [6.4 2.7 5.3 1.9 'Iris-virginica']\n",
      "112 [6.8 3.0 5.5 2.1 'Iris-virginica']\n",
      "113 [5.7 2.5 5.0 2.0 'Iris-virginica']\n",
      "114 [5.8 2.8 5.1 2.4 'Iris-virginica']\n",
      "115 [6.4 3.2 5.3 2.3 'Iris-virginica']\n",
      "116 [6.5 3.0 5.5 1.8 'Iris-virginica']\n",
      "117 [7.7 3.8 6.7 2.2 'Iris-virginica']\n",
      "118 [7.7 2.6 6.9 2.3 'Iris-virginica']\n",
      "119 [6.0 2.2 5.0 1.5 'Iris-virginica']\n",
      "120 [6.9 3.2 5.7 2.3 'Iris-virginica']\n",
      "121 [5.6 2.8 4.9 2.0 'Iris-virginica']\n",
      "122 [7.7 2.8 6.7 2.0 'Iris-virginica']\n",
      "123 [6.3 2.7 4.9 1.8 'Iris-virginica']\n",
      "124 [6.7 3.3 5.7 2.1 'Iris-virginica']\n",
      "125 [7.2 3.2 6.0 1.8 'Iris-virginica']\n",
      "126 [6.2 2.8 4.8 1.8 'Iris-virginica']\n",
      "127 [6.1 3.0 4.9 1.8 'Iris-virginica']\n",
      "128 [6.4 2.8 5.6 2.1 'Iris-virginica']\n",
      "129 [7.2 3.0 5.8 1.6 'Iris-virginica']\n",
      "130 [7.4 2.8 6.1 1.9 'Iris-virginica']\n",
      "131 [7.9 3.8 6.4 2.0 'Iris-virginica']\n",
      "132 [6.4 2.8 5.6 2.2 'Iris-virginica']\n",
      "133 [6.3 2.8 5.1 1.5 'Iris-virginica']\n",
      "134 [6.1 2.6 5.6 1.4 'Iris-virginica']\n",
      "135 [7.7 3.0 6.1 2.3 'Iris-virginica']\n",
      "136 [6.3 3.4 5.6 2.4 'Iris-virginica']\n",
      "137 [6.4 3.1 5.5 1.8 'Iris-virginica']\n",
      "138 [6.0 3.0 4.8 1.8 'Iris-virginica']\n",
      "139 [6.9 3.1 5.4 2.1 'Iris-virginica']\n",
      "140 [6.7 3.1 5.6 2.4 'Iris-virginica']\n",
      "141 [6.9 3.1 5.1 2.3 'Iris-virginica']\n",
      "142 [5.8 2.7 5.1 1.9 'Iris-virginica']\n",
      "143 [6.8 3.2 5.9 2.3 'Iris-virginica']\n",
      "144 [6.7 3.3 5.7 2.5 'Iris-virginica']\n",
      "145 [6.7 3.0 5.2 2.3 'Iris-virginica']\n",
      "146 [6.3 2.5 5.0 1.9 'Iris-virginica']\n",
      "147 [6.5 3.0 5.2 2.0 'Iris-virginica']\n",
      "148 [6.2 3.4 5.4 2.3 'Iris-virginica']\n",
      "149 [5.9 3.0 5.1 1.8 'Iris-virginica']\n"
     ]
    }
   ],
   "metadata": {}
  },
  {
   "cell_type": "code",
   "execution_count": 3,
   "source": [
    "# get Iris classifications\r\n",
    "\r\n",
    "IC = np.unique(IA[:,4])\r\n",
    "print (IC)"
   ],
   "outputs": [
    {
     "output_type": "stream",
     "name": "stdout",
     "text": [
      "['Iris-setosa' 'Iris-versicolor' 'Iris-virginica']\n"
     ]
    }
   ],
   "metadata": {}
  },
  {
   "cell_type": "code",
   "execution_count": 4,
   "source": [
    "# setup Iris feature lablels\r\n",
    "\r\n",
    "IrisF=(\"sepal length in cm\", \"sepal width in cm\", \"petal length in cm\", \"petal width in cm\")\r\n",
    "for i in range(0,4):\r\n",
    "    print(IrisF[i])"
   ],
   "outputs": [
    {
     "output_type": "stream",
     "name": "stdout",
     "text": [
      "sepal length in cm\n",
      "sepal width in cm\n",
      "petal length in cm\n",
      "petal width in cm\n"
     ]
    }
   ],
   "metadata": {}
  },
  {
   "cell_type": "code",
   "execution_count": 5,
   "source": [
    "class AdalineGD(object):\r\n",
    "    \"\"\"ADAptive LInear NEuron classifier.\r\n",
    "\r\n",
    "    Code from \"Python Machine Learning,\" Sebastian Raschka, Packt Publishing, 2015,\r\n",
    "    with modifications.\r\n",
    "\r\n",
    "    Parameters\r\n",
    "    ------------\r\n",
    "    eta : float\r\n",
    "        Learning rate (between 0.0 and 1.0)\r\n",
    "    n_iter : int\r\n",
    "        Passes over the training dataset.\r\n",
    "\r\n",
    "    Attributes\r\n",
    "    -----------\r\n",
    "    w_ : 1d-array\r\n",
    "        Weights after fitting.\r\n",
    "    errors_ : list\r\n",
    "        Number of misclassifications in every epoch.\r\n",
    "\r\n",
    "    \"\"\"\r\n",
    "    def __init__(self, eta=0.01, n_iter=50):\r\n",
    "        self.eta = eta\r\n",
    "        self.n_iter = n_iter\r\n",
    "\r\n",
    "    def fit(self, X, y):\r\n",
    "        \"\"\" Fit training data.\r\n",
    "\r\n",
    "        Parameters\r\n",
    "        ----------\r\n",
    "        X : {array-like}, shape = [n_samples, n_features]\r\n",
    "            Training vectors, where n_samples is the number of samples and\r\n",
    "            n_features is the number of features.\r\n",
    "        y : array-like, shape = [n_samples]\r\n",
    "            Target values.\r\n",
    "\r\n",
    "        Returns\r\n",
    "        -------\r\n",
    "        self : object\r\n",
    "\r\n",
    "        \"\"\"\r\n",
    "        self.w_ = np.zeros(1 + X.shape[1])\r\n",
    "        self.cost_ = []\r\n",
    "\r\n",
    "        for i in range(self.n_iter):\r\n",
    "            output = self.net_input(X)\r\n",
    "            errors = (y - output)\r\n",
    "            self.w_[1:] += self.eta * X.T.dot(errors)\r\n",
    "            self.w_[0] += self.eta * errors.sum()\r\n",
    "            cost = (errors**2).sum() / 2.0\r\n",
    "            self.cost_.append(cost)\r\n",
    "        return self\r\n",
    "\r\n",
    "    def net_input(self, X):\r\n",
    "        \"\"\" Calculate net input \"\"\"\r\n",
    "        return (np.dot(X, self.w_[1:]) + self.w_[0])\r\n",
    "\r\n",
    "    def activation(self, X):\r\n",
    "        \"\"\" Compute linear activation \"\"\"\r\n",
    "        return self.net_input(X)\r\n",
    "\r\n",
    "    def predict(self, X):\r\n",
    "        \"\"\" Return class label after unit step \"\"\"\r\n",
    "        return np.where(self.activation(X) >= 0.0, 1, -1) \r\n",
    "    \r\n",
    "    def accuracy(self, X, y):\r\n",
    "        \"\"\" Return accuracy of the model \"\"\"\r\n",
    "        return (1.0 - abs(y - self.predict(X)).sum() / (2.0 * y.size))\r\n",
    "        "
   ],
   "outputs": [],
   "metadata": {}
  },
  {
   "cell_type": "markdown",
   "source": [
    "## Here, I will try two classes that are not linearly separable :"
   ],
   "metadata": {}
  },
  {
   "cell_type": "code",
   "execution_count": 6,
   "source": [
    "# Focus on classification of \"versicolor\" and \"virginica\", class indexes 1 and 2\r\n",
    "# set to 1 and -1 in class array\r\n",
    "cdx = np.array([1,2])   \r\n",
    "# Focus on the features \"sepal length\" and \"petal length\", feature indexes 0 and 2\r\n",
    "fdx = np.array([0,2])"
   ],
   "outputs": [],
   "metadata": {}
  },
  {
   "cell_type": "code",
   "execution_count": 7,
   "source": [
    "i = 0\r\n",
    "numCl = 0\r\n",
    "for i in range(0 , len(Cl)):\r\n",
    "    if Cl[i] == IC[cdx[0]]:\r\n",
    "        numCl += 1\r\n",
    "    if Cl[i] == IC[cdx[1]]:\r\n",
    "        numCl += 1    \r\n",
    "    i += 1  \r\n",
    "    \r\n",
    "NC = np.zeros((numCl))\r\n",
    "NF = np.zeros((numCl, 2))\r\n",
    "\r\n",
    "i = 0\r\n",
    "j = 0\r\n",
    "for i in range(0 , len(Cl)):\r\n",
    "    if Cl[i] == IC[cdx[0]]:        \r\n",
    "        NC[j] = 1\r\n",
    "        NF[j,0] = IA[i,fdx[0]]\r\n",
    "        NF[j,1] = IA[i,fdx[1]]\r\n",
    "        j += 1\r\n",
    "    if Cl[i] == IC[cdx[1]]:      \r\n",
    "        NC[j] = -1\r\n",
    "        NF[j,0] = IA[i,fdx[0]]\r\n",
    "        NF[j,1] = IA[i,fdx[1]]\r\n",
    "        j += 1\r\n",
    "    i += 1"
   ],
   "outputs": [],
   "metadata": {
    "scrolled": true
   }
  },
  {
   "cell_type": "code",
   "execution_count": 8,
   "source": [
    "plt.close('all')\r\n",
    "fig, ax = plt.subplots(nrows=1, ncols=1, figsize = (4,4))\r\n",
    "ada = AdalineGD(n_iter=10, eta=0.1).fit(NF, NC)\r\n",
    "ax.semilogy(range(1, len(ada.cost_) + 1), ada.cost_, marker = 'o')\r\n",
    "ax.set_xlabel('Epoch')\r\n",
    "ax.set_ylabel('log(Sum-squared-error)')\r\n",
    "ax.set_title('Adaline: eta = 0.1', fontsize ='large')\r\n",
    "plt.show()"
   ],
   "outputs": [
    {
     "output_type": "display_data",
     "data": {
      "image/png": "[encoded data removed]",
      "text/plain": [
       "<Figure size 288x288 with 1 Axes>"
      ]
     },
     "metadata": {
      "needs_background": "light"
     }
    }
   ],
   "metadata": {}
  },
  {
   "cell_type": "code",
   "execution_count": 9,
   "source": [
    "plt.close('all')\r\n",
    "fig, ax = plt.subplots(nrows=1, ncols=1, figsize = (4,4))\r\n",
    "ada = AdalineGD(n_iter=10, eta=0.01).fit(NF, NC)\r\n",
    "ax.semilogy(range(1, len(ada.cost_) + 1), ada.cost_, marker = 'o')\r\n",
    "ax.set_xlabel('Epoch')\r\n",
    "ax.set_ylabel('Sum-squared-error')\r\n",
    "ax.set_title('Adaline: eta = 0.01', fontsize ='large')\r\n",
    "plt.show()"
   ],
   "outputs": [
    {
     "output_type": "display_data",
     "data": {
      "image/png": "[encoded data removed]",
      "text/plain": [
       "<Figure size 288x288 with 1 Axes>"
      ]
     },
     "metadata": {
      "needs_background": "light"
     }
    }
   ],
   "metadata": {
    "scrolled": true
   }
  },
  {
   "cell_type": "code",
   "execution_count": 10,
   "source": [
    "plt.close('all')\r\n",
    "fig, ax = plt.subplots(nrows=1, ncols=1, figsize = (4,4))\r\n",
    "ada = AdalineGD(n_iter=10, eta=0.001).fit(NF, NC)\r\n",
    "ax.semilogy(range(1, len(ada.cost_) + 1), ada.cost_, marker = 'o')\r\n",
    "ax.set_xlabel('Epoch')\r\n",
    "ax.set_ylabel('Sum-squared-error')\r\n",
    "ax.set_title('Adaline: eta = 0.001', fontsize ='large')\r\n",
    "plt.show()"
   ],
   "outputs": [
    {
     "output_type": "display_data",
     "data": {
      "image/png": "[encoded data removed]",
      "text/plain": [
       "<Figure size 288x288 with 1 Axes>"
      ]
     },
     "metadata": {
      "needs_background": "light"
     }
    }
   ],
   "metadata": {}
  },
  {
   "cell_type": "code",
   "execution_count": 11,
   "source": [
    "plt.close('all')\r\n",
    "fig, ax = plt.subplots(nrows=1, ncols=1, figsize = (4,4))\r\n",
    "ada = AdalineGD(n_iter=10, eta=0.0001).fit(NF, NC)\r\n",
    "ax.semilogy(range(1, len(ada.cost_) + 1), ada.cost_, marker = 'o')\r\n",
    "ax.set_xlabel('Epoch')\r\n",
    "ax.set_ylabel('Sum-squared-error')\r\n",
    "ax.set_title('Adaline: eta = 0.0001', fontsize ='large')\r\n",
    "plt.show()"
   ],
   "outputs": [
    {
     "output_type": "display_data",
     "data": {
      "image/png": "[encoded data removed]",
      "text/plain": [
       "<Figure size 288x288 with 1 Axes>"
      ]
     },
     "metadata": {
      "needs_background": "light"
     }
    }
   ],
   "metadata": {}
  },
  {
   "cell_type": "code",
   "execution_count": 12,
   "source": [
    "# Standardize Inputs\r\n",
    "# uses later on as well\r\n",
    "\r\n",
    "NF_Std = np.copy(NF)\r\n",
    "NF_Std[:,0] = (NF[:,0] - NF[:,0].mean()) / NF[:,0].std()\r\n",
    "NF_Std[:,1] = (NF[:,1] - NF[:,1].mean()) / NF[:,1].std()"
   ],
   "outputs": [],
   "metadata": {}
  },
  {
   "cell_type": "code",
   "execution_count": 13,
   "source": [
    "plt.close('all')\r\n",
    "fig, ax = plt.subplots(nrows=1, ncols=2, figsize = (8,4))\r\n",
    "\r\n",
    "ada = AdalineGD(n_iter=50, eta=0.003)\r\n",
    "ada.fit(NF_Std, NC)\r\n",
    "ax[0].plot(range(1, len(ada.cost_) + 1), ada.cost_)\r\n",
    "ax[0].set_xlabel('Epoch')\r\n",
    "ax[0].set_ylabel('Sum-squared-error')\r\n",
    "ax[0].set_title('Adaline: eta = 0.003', fontsize='x-large')\r\n",
    "ax[1].semilogy(range(1, len(ada.cost_) + 1), ada.cost_)\r\n",
    "ax[1].set_xlabel('Epoch')\r\n",
    "ax[1].set_ylabel('Sum-squared-error')\r\n",
    "ax[1].set_title('Adaline: eta = 0.003', fontsize='x-large')\r\n",
    "plt.show()"
   ],
   "outputs": [
    {
     "output_type": "display_data",
     "data": {
      "image/png": "[encoded data removed]",
      "text/plain": [
       "<Figure size 576x288 with 2 Axes>"
      ]
     },
     "metadata": {
      "needs_background": "light"
     }
    }
   ],
   "metadata": {}
  },
  {
   "cell_type": "code",
   "execution_count": 14,
   "source": [
    "from matplotlib.colors import ListedColormap\r\n",
    "def plot_decision_regions(X, y, classifier, resolution=0.01):\r\n",
    "\r\n",
    "    # setup marker generator and color map\r\n",
    "    colors = ('blue', 'red')\r\n",
    "    cmap = ListedColormap(colors[:len(np.unique(y))])\r\n",
    "\r\n",
    "    # plot the decision surface\r\n",
    "    x1_min, x1_max = X[:, 0].min() - 1, X[:, 0].max() + 1\r\n",
    "    x2_min, x2_max = X[:, 1].min() - 1, X[:, 1].max() + 1\r\n",
    "    xx1, xx2 = np.meshgrid(np.arange(x1_min, x1_max, resolution),\r\n",
    "                         np.arange(x2_min, x2_max, resolution))\r\n",
    "    Z = classifier.predict(np.array([xx1.ravel(), xx2.ravel()]).T)\r\n",
    "    Z = Z.reshape(xx1.shape)\r\n",
    "    plt.contourf(xx1, xx2, Z, alpha=0.2, cmap=cmap)\r\n",
    "    plt.xlim(xx1.min(), xx1.max())\r\n",
    "    plt.ylim(xx2.min(), xx2.max())\r\n",
    "\r\n",
    "    # plot class samples\r\n",
    "    for idx, cl in enumerate(np.unique(y)):\r\n",
    "        plt.scatter(x=X[y == cl, 0], y=X[y == cl, 1],\r\n",
    "                    alpha=0.8, label=IC[cdx[idx]])\r\n",
    "                   "
   ],
   "outputs": [],
   "metadata": {}
  },
  {
   "cell_type": "code",
   "execution_count": 15,
   "source": [
    "def dimen_second(feature_one, feature_two):\r\n",
    "# Setting up dimens \r\n",
    "# here, for second dimension, using two features\r\n",
    "    global cdx, Cl, IC, pltC, pltM, IrisF\r\n",
    "    global twoFeature\r\n",
    "    fdx = np.array([feature_one, feature_two]) \r\n",
    "\r\n",
    "    i = 0\r\n",
    "    numCl = 0\r\n",
    "    for i in range(0 , len(Cl)):\r\n",
    "        if Cl[i] == IC[cdx[0]]:\r\n",
    "            numCl += 1\r\n",
    "        if Cl[i] == IC[cdx[1]]:\r\n",
    "            numCl += 1    \r\n",
    "        i += 1  \r\n",
    "\r\n",
    "    NC = np.zeros((numCl))\r\n",
    "    NF = np.zeros((numCl, 2))\r\n",
    "\r\n",
    "    i = 0\r\n",
    "    j = 0\r\n",
    "    for i in range(0 , len(Cl)):\r\n",
    "        if Cl[i] == IC[cdx[0]]:        \r\n",
    "            NC[j] = 1\r\n",
    "            NF[j,0] = IA[i,fdx[0]]\r\n",
    "            NF[j,1] = IA[i,fdx[1]]\r\n",
    "            j += 1\r\n",
    "        if Cl[i] == IC[cdx[1]]:      \r\n",
    "            NC[j] = -1\r\n",
    "            NF[j,0] = IA[i,fdx[0]]\r\n",
    "            NF[j,1] = IA[i,fdx[1]]\r\n",
    "            j += 1\r\n",
    "        i += 1\r\n",
    "        \r\n",
    "    # Standardize the inputs\r\n",
    "    # 0,1\r\n",
    "    NF_Std = np.copy(NF)\r\n",
    "    NF_Std[:,0] = (NF[:,0] - NF[:,0].mean()) / NF[:,0].std()\r\n",
    "    NF_Std[:,1] = (NF[:,1] - NF[:,1].mean()) / NF[:,1].std()\r\n",
    "\r\n",
    "    # Create Adaline (50 iterations)\r\n",
    "    ada = AdalineGD(n_iter=50, eta=0.003)\r\n",
    "    ada.fit(NF_Std, NC)\r\n",
    "   \r\n",
    "    # Plot the graph\r\n",
    "    plt.close('all')\r\n",
    "    plot_decision_regions(NF_Std, NC, classifier = ada)\r\n",
    "    plt.title('Adaline - Gradient Descent', fontsize='large')\r\n",
    "    # using large for fontsize\r\n",
    "    plt.xlabel(str(IrisF[feature_one])) #fix the label\r\n",
    "    plt.ylabel(str(IrisF[feature_two])) #fix the label\r\n",
    "    plt.legend(loc='upper left', fontsize='large')\r\n",
    "    plt.show()\r\n",
    "    twoFeature.append((ada.accuracy(NF_Std, NC)*100))\r\n",
    "    print(\"Adaline Accuracy Level: \" + str((ada.accuracy(NF_Std, NC)*100)) + \"%\")"
   ],
   "outputs": [],
   "metadata": {}
  },
  {
   "cell_type": "markdown",
   "source": [
    "# Here, we will do the following which is to standardize the inputs to have the following two options :\n",
    " ##        -  make the training faster  \n",
    " ##        -  avoid getting struck from local optima"
   ],
   "metadata": {}
  },
  {
   "cell_type": "code",
   "execution_count": 16,
   "source": [
    "def dimen_three(feature_one, feature_two, feature_three):\r\n",
    "# Now, including three features \r\n",
    "    global cdx, Cl, IC, pltC, pltM, IrisF\r\n",
    "    global threeFeature\r\n",
    "    fdx = np.array([feature_one, feature_two, feature_three]) \r\n",
    "\r\n",
    "    # from above\r\n",
    "    i = 0\r\n",
    "    numCl = 0\r\n",
    "    for i in range(0 , len(Cl)):\r\n",
    "        if Cl[i] == IC[cdx[0]]:\r\n",
    "            numCl += 1\r\n",
    "        if Cl[i] == IC[cdx[1]]:\r\n",
    "            numCl += 1    \r\n",
    "        i += 1  \r\n",
    "\r\n",
    "    NC = np.zeros((numCl))\r\n",
    "    NF = np.zeros((numCl, 3))\r\n",
    "\r\n",
    "    i = 0\r\n",
    "    j = 0\r\n",
    "    for i in range(0 , len(Cl)):\r\n",
    "        if Cl[i] == IC[cdx[0]]:        \r\n",
    "            NC[j] = 1\r\n",
    "            NF[j,0] = IA[i,fdx[0]]\r\n",
    "            NF[j,1] = IA[i,fdx[1]]\r\n",
    "            NF[j,2] = IA[i,fdx[2]]\r\n",
    "            j += 1\r\n",
    "        if Cl[i] == IC[cdx[1]]:      \r\n",
    "            NC[j] = -1\r\n",
    "            NF[j,0] = IA[i,fdx[0]]\r\n",
    "            NF[j,1] = IA[i,fdx[1]]\r\n",
    "            NF[j,2] = IA[i,fdx[2]]\r\n",
    "            j += 1\r\n",
    "        i += 1\r\n",
    "\r\n",
    "    # Standardize the inputs\r\n",
    "    # 0,1,2\r\n",
    "    NF_Std = np.copy(NF)\r\n",
    "    NF_Std[:,0] = (NF[:,0] - NF[:,0].mean()) / NF[:,0].std()\r\n",
    "    NF_Std[:,1] = (NF[:,1] - NF[:,1].mean()) / NF[:,1].std()\r\n",
    "    NF_Std[:,2] = (NF[:,2] - NF[:,2].mean()) / NF[:,2].std()\r\n",
    "    \r\n",
    "    # Create Adaline\r\n",
    "    # 50 iterations, eta is 0.003\r\n",
    "    ada = AdalineGD(n_iter=50, eta=0.003)\r\n",
    "    ada.fit(NF_Std, NC)\r\n",
    "    \r\n",
    "    threeFeature.append(((ada.accuracy(NF_Std, NC)*100)))\r\n",
    "    print(\"Adaline Accuracy Level: \" + str((ada.accuracy(NF_Std, NC)*100)) + \"%\")"
   ],
   "outputs": [],
   "metadata": {}
  },
  {
   "cell_type": "code",
   "execution_count": 17,
   "source": [
    "def dimen_fourth(feature_one, feature_two, feature_three, feature_four):\r\n",
    "    global cdx, Cl, IC, pltC, pltM, IrisF\r\n",
    "    global fourFeature\r\n",
    "    fdx = np.array([feature_one, feature_two, feature_three, feature_four]) \r\n",
    "\r\n",
    "    i = 0\r\n",
    "    numCl = 0\r\n",
    "    for i in range(0 , len(Cl)):\r\n",
    "        if Cl[i] == IC[cdx[0]]:\r\n",
    "            numCl += 1\r\n",
    "        if Cl[i] == IC[cdx[1]]:\r\n",
    "            numCl += 1    \r\n",
    "        i += 1  \r\n",
    "\r\n",
    "    NC = np.zeros((numCl))\r\n",
    "    NF = np.zeros((numCl, 4))\r\n",
    "\r\n",
    "    i = 0\r\n",
    "    j = 0\r\n",
    "    for i in range(0 , len(Cl)):\r\n",
    "        if Cl[i] == IC[cdx[0]]:        \r\n",
    "            NC[j] = 1\r\n",
    "            NF[j,0] = IA[i,fdx[0]]\r\n",
    "            NF[j,1] = IA[i,fdx[1]]\r\n",
    "            NF[j,2] = IA[i,fdx[2]]\r\n",
    "            NF[j,3] = IA[i,fdx[3]]\r\n",
    "            j += 1\r\n",
    "        if Cl[i] == IC[cdx[1]]:      \r\n",
    "            NC[j] = -1\r\n",
    "            NF[j,0] = IA[i,fdx[0]]\r\n",
    "            NF[j,1] = IA[i,fdx[1]]\r\n",
    "            NF[j,2] = IA[i,fdx[2]]\r\n",
    "            NF[j,3] = IA[i,fdx[3]]\r\n",
    "            j += 1\r\n",
    "        i += 1\r\n",
    "        \r\n",
    "    # Standardize Inputs\r\n",
    "    # 0,1,2,3\r\n",
    "    NF_Std = np.copy(NF)\r\n",
    "    NF_Std[:,0] = (NF[:,0] - NF[:,0].mean()) / NF[:,0].std()\r\n",
    "    NF_Std[:,1] = (NF[:,1] - NF[:,1].mean()) / NF[:,1].std()\r\n",
    "    NF_Std[:,2] = (NF[:,2] - NF[:,2].mean()) / NF[:,2].std()\r\n",
    "    NF_Std[:,3] = (NF[:,3] - NF[:,3].mean()) / NF[:,3].std()\r\n",
    "\r\n",
    "\r\n",
    "    # Create Adaline\r\n",
    "    # 50 iterations and eta=0.003\r\n",
    "    ada = AdalineGD(n_iter=50, eta=0.003)\r\n",
    "    ada.fit(NF_Std, NC)\r\n",
    "    \r\n",
    "    fourFeature.append(((ada.accuracy(NF_Std, NC)*100)))\r\n",
    "    print(\"Adaline Accuracy Level: \" + str((ada.accuracy(NF_Std, NC)*100)) + \"%\")"
   ],
   "outputs": [],
   "metadata": {}
  },
  {
   "cell_type": "markdown",
   "source": [
    "###  Used 50 iterations and the learning rate is 0.003. If numbers are changed drastically, can cause a huge error in every epoch."
   ],
   "metadata": {}
  },
  {
   "cell_type": "markdown",
   "source": [
    "# All six cases of using two features at a time:"
   ],
   "metadata": {}
  },
  {
   "cell_type": "code",
   "execution_count": 18,
   "source": [
    "# Iris feature labels use come into play now\r\n",
    "\r\n",
    "twoFeature_description = []\r\n",
    "twoFeature = [];\r\n",
    "\r\n",
    "# will do (0,1), (0,2) and (0,3)\r\n",
    "\r\n",
    "# Here, dealing with sepal length and sepal width\r\n",
    "twoFeature_description.append(\"Sepal Length & Sepal Width\")\r\n",
    "dimen_second(0,1)\r\n",
    "\r\n",
    "# Here, dealing with sepal length and petal length\r\n",
    "twoFeature_description.append(\"Sepal Length & Petal Length\")\r\n",
    "dimen_second(0,2)\r\n",
    "\r\n",
    "# Here, dealing with sepal length and petal width\r\n",
    "twoFeature_description.append(\"Sepal Length & Petal Width\")\r\n",
    "dimen_second(0,3)"
   ],
   "outputs": [
    {
     "output_type": "display_data",
     "data": {
      "image/png": "[encoded data removed]",
      "text/plain": [
       "<Figure size 432x288 with 1 Axes>"
      ]
     },
     "metadata": {
      "needs_background": "light"
     }
    },
    {
     "output_type": "stream",
     "name": "stdout",
     "text": [
      "Adaline Accuracy Level: 75.0%\n"
     ]
    },
    {
     "output_type": "display_data",
     "data": {
      "image/png": "[encoded data removed]",
      "text/plain": [
       "<Figure size 432x288 with 1 Axes>"
      ]
     },
     "metadata": {
      "needs_background": "light"
     }
    },
    {
     "output_type": "stream",
     "name": "stdout",
     "text": [
      "Adaline Accuracy Level: 94.0%\n"
     ]
    },
    {
     "output_type": "display_data",
     "data": {
      "image/png": "[encoded data removed]",
      "text/plain": [
       "<Figure size 432x288 with 1 Axes>"
      ]
     },
     "metadata": {
      "needs_background": "light"
     }
    },
    {
     "output_type": "stream",
     "name": "stdout",
     "text": [
      "Adaline Accuracy Level: 94.0%\n"
     ]
    }
   ],
   "metadata": {}
  },
  {
   "cell_type": "code",
   "execution_count": 19,
   "source": [
    "# Here, dealing with sepal width and petal length (1,2)\r\n",
    "twoFeature_description.append(\"Sepal Width & Petal Length\")\r\n",
    "dimen_second(1,2)\r\n",
    "\r\n",
    "# Here, dealing with sepal width and petal width (1,3)\r\n",
    "twoFeature_description.append(\"Sepal Width & Petal Width\")\r\n",
    "dimen_second(1,3)\r\n",
    "\r\n",
    "# Here, dealing with petal length and petal width (2,3)\r\n",
    "twoFeature_description.append(\"Petal Length & Petal Width\")\r\n",
    "dimen_second(2,3)"
   ],
   "outputs": [
    {
     "output_type": "display_data",
     "data": {
      "image/png": "[encoded data removed]",
      "text/plain": [
       "<Figure size 432x288 with 1 Axes>"
      ]
     },
     "metadata": {
      "needs_background": "light"
     }
    },
    {
     "output_type": "stream",
     "name": "stdout",
     "text": [
      "Adaline Accuracy Level: 93.0%\n"
     ]
    },
    {
     "output_type": "display_data",
     "data": {
      "image/png": "[encoded data removed]",
      "text/plain": [
       "<Figure size 432x288 with 1 Axes>"
      ]
     },
     "metadata": {
      "needs_background": "light"
     }
    },
    {
     "output_type": "stream",
     "name": "stdout",
     "text": [
      "Adaline Accuracy Level: 95.0%\n"
     ]
    },
    {
     "output_type": "display_data",
     "data": {
      "image/png": "[encoded data removed]",
      "text/plain": [
       "<Figure size 432x288 with 1 Axes>"
      ]
     },
     "metadata": {
      "needs_background": "light"
     }
    },
    {
     "output_type": "stream",
     "name": "stdout",
     "text": [
      "Adaline Accuracy Level: 94.0%\n"
     ]
    }
   ],
   "metadata": {}
  },
  {
   "cell_type": "code",
   "execution_count": 20,
   "source": [
    "twoFeature\r\n",
    "# will list out the accuracy level results"
   ],
   "outputs": [
    {
     "output_type": "execute_result",
     "data": {
      "text/plain": [
       "[75.0, 94.0, 94.0, 93.0, 95.0, 94.0]"
      ]
     },
     "metadata": {},
     "execution_count": 20
    }
   ],
   "metadata": {}
  },
  {
   "cell_type": "markdown",
   "source": [
    "## When calculating the average of the results: 75+94+94+93+95+94, I get 545 which I divide by 6 to get 90.83333 which is approximately 90.8%. As can see, with the first case, the accuracy level is 75% which is the worst and due to this, the overall average goes down. If the first case is excluded, we get 94+94+93+95+94 = 470 and divide that by 5 to get 94%. The average would go up to 94%"
   ],
   "metadata": {}
  },
  {
   "cell_type": "markdown",
   "source": [
    "# All four cases of using three features at a time:"
   ],
   "metadata": {}
  },
  {
   "cell_type": "code",
   "execution_count": 21,
   "source": [
    "threeFeature = []\r\n",
    "threeFeature_description = []\r\n",
    "\r\n",
    "# Now, dealing with three features \r\n",
    "# for (0,1,2), we are dealing with: Sepal Length, Sepal Width, Petal Length\r\n",
    "threeFeature_description.append(\"Sepal Length, Sepal Width, Petal Length\")\r\n",
    "dimen_three(0,1,2)\r\n",
    "# now, for (1,2,3), we are dealing with: Sepal Width, Petal Length, Petal Width\r\n",
    "threeFeature_description.append(\"Sepal Width, Petal Length, Petal Width\")\r\n",
    "dimen_three(1,2,3)\r\n",
    "# now, for (0,2,3), we are dealing with: Sepal Length, Petal Length, Petal Width\r\n",
    "threeFeature_description.append(\"Sepal Length, Petal Length, Petal Width\")\r\n",
    "dimen_three(0,2,3)\r\n",
    "# now, for (0,1,3), we are dealing with: Sepal Length, Sepal Width, Petal Width\r\n",
    "threeFeature_description.append(\"Sepal Length, Sepal Width, Petal Width\")\r\n",
    "dimen_three(0,1,3)"
   ],
   "outputs": [
    {
     "output_type": "stream",
     "name": "stdout",
     "text": [
      "Adaline Accuracy Level: 93.0%\n",
      "Adaline Accuracy Level: 96.0%\n",
      "Adaline Accuracy Level: 96.0%\n",
      "Adaline Accuracy Level: 95.0%\n"
     ]
    }
   ],
   "metadata": {}
  },
  {
   "cell_type": "code",
   "execution_count": 22,
   "source": [
    "threeFeature\r\n",
    "# accuracy levels for the 4 cases"
   ],
   "outputs": [
    {
     "output_type": "execute_result",
     "data": {
      "text/plain": [
       "[93.0, 96.0, 96.0, 95.0]"
      ]
     },
     "metadata": {},
     "execution_count": 22
    }
   ],
   "metadata": {}
  },
  {
   "cell_type": "markdown",
   "source": [
    "## On an average, the accuracy is 95% which I get by adding 93+96+96+95 which gives 380 and dividing that by 4 gives 95%. Taking the last three results and leaving out the first case will make the average increase. This was also similar to what happened with the case with twoFeature. This lets us conclude that there is a correlation between threeFeature and twoFeature. From this four cases, we can learn that increasing the feature also increased the accuracy."
   ],
   "metadata": {}
  },
  {
   "cell_type": "markdown",
   "source": [
    "# The one case of using all features at once:"
   ],
   "metadata": {}
  },
  {
   "cell_type": "code",
   "execution_count": 23,
   "source": [
    "# will use all the features now\r\n",
    "fourFeature = []\r\n",
    "fourFeature_description = []\r\n",
    "# Here, we will have: Sepal Length, Sepal Width, Petal Length, Petal Width\r\n",
    "\r\n",
    "fourFeature_description.append(\"Sepal Length, Sepal Width, Petal Length, Petal Width\")\r\n",
    "dimen_fourth(0,1,2,3)"
   ],
   "outputs": [
    {
     "output_type": "stream",
     "name": "stdout",
     "text": [
      "Adaline Accuracy Level: 97.0%\n"
     ]
    }
   ],
   "metadata": {}
  },
  {
   "cell_type": "code",
   "execution_count": 24,
   "source": [
    "fourFeature\r\n",
    "# accuracy level for one case of using all features at once"
   ],
   "outputs": [
    {
     "output_type": "execute_result",
     "data": {
      "text/plain": [
       "[97.0]"
      ]
     },
     "metadata": {},
     "execution_count": 24
    }
   ],
   "metadata": {}
  },
  {
   "cell_type": "markdown",
   "source": [
    "## Increasing features will improve accuracy level."
   ],
   "metadata": {}
  },
  {
   "cell_type": "markdown",
   "source": [
    "# Conclusion:\r\n",
    "\r\n",
    "## Based on the results, and comparing both Iris-Virginica and Iris-Versicolor, I come to the conlusion that increasing the amount of features will make the accuracy level better. In my work, fourFeature had the best accuracy level (the highest one) which was 97%. The worst accuracy level was the first one for the six case, where it was 75%. Therefore, from this information, I can deduce that including more dimensions does help when trying to classify the data in this dataset."
   ],
   "metadata": {}
  },
  {
   "cell_type": "code",
   "execution_count": 25,
   "source": [
    "# I have added all my accuracy results in a table for all 11 cases\r\n",
    "data = [(\"75%\", \"93%\", \"97%\"),\r\n",
    "        (\"94%\", \"96%\"), \r\n",
    "        (\"94%\", \"96%\"), \r\n",
    "        (\"93%\", \"95%\"),\r\n",
    "        (\"95%\", \"\", \"\"),\r\n",
    "        (\"94%\", \"\", \"\")]\r\n",
    "\r\n",
    "headers = [\"Six Cases\",\"Four Cases\" ,\"One Case\"]\r\n",
    "\r\n",
    "print(tabulate(data, headers=headers, tablefmt= \"fancy_grid\"))"
   ],
   "outputs": [
    {
     "output_type": "stream",
     "name": "stdout",
     "text": [
      "╒═════════════╤══════════════╤════════════╕\n",
      "│ Six Cases   │ Four Cases   │ One Case   │\n",
      "╞═════════════╪══════════════╪════════════╡\n",
      "│ 75%         │ 93%          │ 97%        │\n",
      "├─────────────┼──────────────┼────────────┤\n",
      "│ 94%         │ 96%          │            │\n",
      "├─────────────┼──────────────┼────────────┤\n",
      "│ 94%         │ 96%          │            │\n",
      "├─────────────┼──────────────┼────────────┤\n",
      "│ 93%         │ 95%          │            │\n",
      "├─────────────┼──────────────┼────────────┤\n",
      "│ 95%         │              │            │\n",
      "├─────────────┼──────────────┼────────────┤\n",
      "│ 94%         │              │            │\n",
      "╘═════════════╧══════════════╧════════════╛\n"
     ]
    }
   ],
   "metadata": {}
  },
  {
   "cell_type": "markdown",
   "source": [
    "## For this assignment, I collaborated with Hafsa Nadim"
   ],
   "metadata": {}
  }
 ],
 "metadata": {
  "anaconda-cloud": {},
  "interpreter": {
   "hash": "1791c5e4f32545b9e16f4018e04dacc2a062f731b71f1dae669d02bbd31749a1"
  },
  "kernelspec": {
   "name": "python3",
   "display_name": "Python 3.8.8 64-bit ('base': conda)"
  },
  "language_info": {
   "codemirror_mode": {
    "name": "ipython",
    "version": 3
   },
   "file_extension": ".py",
   "mimetype": "text/x-python",
   "name": "python",
   "nbconvert_exporter": "python",
   "pygments_lexer": "ipython3",
   "version": "3.8.8"
  }
 },
 "nbformat": 4,
 "nbformat_minor": 1
}